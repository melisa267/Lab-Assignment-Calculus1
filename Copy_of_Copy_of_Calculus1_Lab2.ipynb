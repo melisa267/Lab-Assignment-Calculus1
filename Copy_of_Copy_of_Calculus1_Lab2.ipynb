{
  "nbformat": 4,
  "nbformat_minor": 0,
  "metadata": {
    "kernelspec": {
      "display_name": "Python 3",
      "language": "python",
      "name": "python3"
    },
    "language_info": {
      "codemirror_mode": {
        "name": "ipython",
        "version": 3
      },
      "file_extension": ".py",
      "mimetype": "text/x-python",
      "name": "python",
      "nbconvert_exporter": "python",
      "pygments_lexer": "ipython3",
      "version": "3.5.1"
    },
    "colab": {
      "name": "Copy of Copy of Calculus1-Lab2.ipynb",
      "provenance": [],
      "include_colab_link": true
    }
  },
  "cells": [
    {
      "cell_type": "markdown",
      "metadata": {
        "id": "view-in-github",
        "colab_type": "text"
      },
      "source": [
        "<a href=\"https://colab.research.google.com/github/melisa267/Lab-Assignment-Calculus1/blob/master/Copy_of_Copy_of_Calculus1_Lab2.ipynb\" target=\"_parent\"><img src=\"https://colab.research.google.com/assets/colab-badge.svg\" alt=\"Open In Colab\"/></a>"
      ]
    },
    {
      "cell_type": "markdown",
      "metadata": {
        "id": "-fwwvXfBkCLJ"
      },
      "source": [
        "# MAT421 - Lab 2"
      ]
    },
    {
      "cell_type": "code",
      "metadata": {
        "id": "pELOqAqTkCLN"
      },
      "source": [
        "#%matplotlib notebook\n",
        "%matplotlib inline\n",
        "#%pylab inline\n",
        "#init_session(use_unicode=True)\n",
        "from __future__ import division\n",
        "from sympy import *\n",
        "x, y, z, t = symbols('x y z t', real=True)\n",
        "k, m, n = symbols('k m n', integer=True)\n",
        "f, g, h = symbols('f g h', cls=Function)\n",
        "init_printing()"
      ],
      "execution_count": null,
      "outputs": []
    },
    {
      "cell_type": "markdown",
      "metadata": {
        "id": "RX_gCwKYkCLO"
      },
      "source": [
        "<hr />"
      ]
    },
    {
      "cell_type": "markdown",
      "metadata": {
        "id": "RanerWWzkCLP"
      },
      "source": [
        "To run a cell: Shift+Enter.<br />\n",
        "\n",
        "To print:\n",
        "- Cell > Run All.<br />\n",
        "- Make sure no there is no error. <br />\n",
        "- File -> Print Preview. Print using the browser's print menu."
      ]
    },
    {
      "cell_type": "markdown",
      "metadata": {
        "id": "ECXXeS2wkCLP"
      },
      "source": [
        "<hr />"
      ]
    },
    {
      "cell_type": "markdown",
      "metadata": {
        "id": "2tNA0z_pkCLQ"
      },
      "source": [
        "Print your name using print function. <br />\n",
        "\n",
        "Example:\n",
        "print(\"Ali bin Ahmad\")"
      ]
    },
    {
      "cell_type": "code",
      "metadata": {
        "id": "vsL_aoDqkCLR",
        "colab": {
          "base_uri": "https://localhost:8080/"
        },
        "outputId": "cf5ad63d-bfad-46af-9a59-87468f5a94f2"
      },
      "source": [
        "print(\"Melisa Bt Abdullah Baawi\")"
      ],
      "execution_count": null,
      "outputs": [
        {
          "output_type": "stream",
          "text": [
            "Melisa Bt Abdullah Baawi\n"
          ],
          "name": "stdout"
        }
      ]
    },
    {
      "cell_type": "markdown",
      "metadata": {
        "id": "MY9YDSUXkCLR"
      },
      "source": [
        "Print your student id using print function."
      ]
    },
    {
      "cell_type": "code",
      "metadata": {
        "collapsed": true,
        "id": "MZUqduHBkCLS",
        "colab": {
          "base_uri": "https://localhost:8080/"
        },
        "outputId": "883fab5a-9c2a-4213-fb51-0b1569edaa6b"
      },
      "source": [
        "2020875476"
      ],
      "execution_count": null,
      "outputs": [
        {
          "output_type": "execute_result",
          "data": {
            "text/plain": [
              "2020875476"
            ]
          },
          "metadata": {
            "tags": []
          },
          "execution_count": 5
        }
      ]
    },
    {
      "cell_type": "markdown",
      "metadata": {
        "id": "2TAL60vdkCLS"
      },
      "source": [
        "<hr />"
      ]
    },
    {
      "cell_type": "markdown",
      "metadata": {
        "id": "GxRTQymlkCLT"
      },
      "source": [
        "## Define the functions f and g, find the intersections (if exists), plot the graph and find the enclosed area."
      ]
    },
    {
      "cell_type": "markdown",
      "metadata": {
        "id": "nqoRtLvPkCLU"
      },
      "source": [
        "a) $f(x) = x^2 + 2$ and $g(x)=1-x$ between $x=0$ and $x=1$."
      ]
    },
    {
      "cell_type": "markdown",
      "metadata": {
        "id": "CDwk_C-GkCLV"
      },
      "source": [
        "Define $f$ and $g$. Then, plot $f$ and $g$ on the same graph for $x\\in[0,1]$."
      ]
    },
    {
      "cell_type": "code",
      "metadata": {
        "id": "vI-mCV-bkCLV",
        "colab": {
          "base_uri": "https://localhost:8080/",
          "height": 283
        },
        "outputId": "d4ee9f80-57ae-4e7a-c068-00566a213408"
      },
      "source": [
        "import numpy as np\n",
        "import scipy.integrate as integrate\n",
        "import matplotlib.pyplot as plt\n",
        "\n",
        "f = lambda x: x**2 + 2\n",
        "g = lambda y: 1-x\n",
        "\n",
        "x = np.linspace(0,1,200)\n",
        "\n",
        "fx = f(x)\n",
        "gx = g(x)\n",
        "\n",
        "plt.plot(x, fx, label='f(x)=x**2 + 2')\n",
        "plt.plot(x, gx, label='g(x)=1-x')\n",
        "plt.fill_between(x,fx, gx)\n",
        "plt.legend()\n",
        "from scipy.integrate import quad\n",
        "def integrand(x):\n",
        "  return (((x**2)+2)-(1-x))\n",
        "ans, err=quad(integrand,0,1)\n",
        "print(ans) "
      ],
      "execution_count": null,
      "outputs": [
        {
          "output_type": "stream",
          "text": [
            "1.8333333333333333\n"
          ],
          "name": "stdout"
        },
        {
          "output_type": "display_data",
          "data": {
            "image/png": "[encoded data removed]",
            "text/plain": [
              "<Figure size 432x288 with 1 Axes>"
            ]
          },
          "metadata": {
            "tags": [],
            "needs_background": "light"
          }
        }
      ]
    },
    {
      "cell_type": "markdown",
      "metadata": {
        "id": "RjQGdcNXkCLW"
      },
      "source": [
        "Calculate the enclosed area."
      ]
    },
    {
      "cell_type": "markdown",
      "metadata": {
        "id": "EvCxADpekCLX"
      },
      "source": [
        "<hr />"
      ]
    },
    {
      "cell_type": "code",
      "metadata": {
        "id": "X9QtLFhykCLX",
        "colab": {
          "base_uri": "https://localhost:8080/"
        },
        "outputId": "06cdef8a-40e8-457a-c827-fafd9bf89f77"
      },
      "source": [
        "from scipy.integrate import quad\n",
        "def integrand(x):\n",
        "  return (((x**2)+ 2)-(1-x))\n",
        "ans, err=quad(integrand,0,1)\n",
        "print(ans) \n"
      ],
      "execution_count": null,
      "outputs": [
        {
          "output_type": "stream",
          "text": [
            "1.8333333333333333\n"
          ],
          "name": "stdout"
        }
      ]
    },
    {
      "cell_type": "code",
      "metadata": {
        "id": "4GLFivDwkCLb",
        "colab": {
          "base_uri": "https://localhost:8080/",
          "height": 283
        },
        "outputId": "71640be4-0e8f-46a4-c33b-614afd781733"
      },
      "source": [
        "import numpy as np\n",
        "import scipy.integrate as integrate\n",
        "import matplotlib.pyplot as plt\n",
        "\n",
        "f = lambda x: x - 2\n",
        "g = lambda y: 2*x**3 - 1\n",
        "\n",
        "x = np.linspace(1,2,200)\n",
        "\n",
        "fx = f(x)\n",
        "gx = g(x)\n",
        "\n",
        "plt.plot(x, fx, label='f(x)=x -2')\n",
        "plt.plot(x, gx, label='g(x)=2*x**3 - 1')\n",
        "plt.fill_between(x, fx, gx)\n",
        "plt.legend()\n",
        "\n"
      ],
      "execution_count": null,
      "outputs": [
        {
          "output_type": "execute_result",
          "data": {
            "text/plain": [
              "<matplotlib.legend.Legend at 0x7fe8058b7210>"
            ]
          },
          "metadata": {
            "tags": []
          },
          "execution_count": 42
        },
        {
          "output_type": "display_data",
          "data": {
            "image/png": "[encoded data removed]",
            "text/plain": [
              "<Figure size 432x288 with 1 Axes>"
            ]
          },
          "metadata": {
            "tags": [],
            "needs_background": "light"
          }
        }
      ]
    },
    {
      "cell_type": "code",
      "metadata": {
        "id": "9hocVaTHyfnU",
        "colab": {
          "base_uri": "https://localhost:8080/"
        },
        "outputId": "cc829cc6-e79e-469f-8974-82eb2cd483d3"
      },
      "source": [
        "from scipy.integrate import quad\n",
        "def integrand(x):\n",
        "  return ((2*x**3 - 1)-(x-1))\n",
        "ans, err=quad(integrand,1,2)\n",
        "print(ans)  "
      ],
      "execution_count": null,
      "outputs": [
        {
          "output_type": "stream",
          "text": [
            "6.000000000000001\n"
          ],
          "name": "stdout"
        }
      ]
    },
    {
      "cell_type": "markdown",
      "metadata": {
        "id": "prKSXn03kCLZ"
      },
      "source": [
        "Define $f$ and $g$. Then, plot $f$ and $g$ on the same graph for $x\\in[1,2]$."
      ]
    },
    {
      "cell_type": "markdown",
      "metadata": {
        "id": "MUHrDU7pkCLb"
      },
      "source": [
        "c) $f(x) = (x-1)^2$ and $g(x)=-x+3$."
      ]
    },
    {
      "cell_type": "markdown",
      "metadata": {
        "id": "VKNUAREokCLc"
      },
      "source": [
        "Define $f$ and $g$. Then, find the $x$ value of the intersection point(s) of $f$ and $g$ using function \"solve\"."
      ]
    },
    {
      "cell_type": "code",
      "metadata": {
        "id": "wP7kxaDfkCLc",
        "colab": {
          "base_uri": "https://localhost:8080/"
        },
        "outputId": "e52a7608-2b97-4091-c3bf-257d5acf728e"
      },
      "source": [
        "def f(x):\n",
        "  return (x-1)**2\n",
        "\n",
        "def g(x):\n",
        "   return (-x+3)\n",
        "\n",
        "from sympy.solvers import solve\n",
        "from sympy import Symbol\n",
        "x = Symbol('x')\n",
        "solve(x**2-x-2)\n"
      ],
      "execution_count": null,
      "outputs": [
        {
          "output_type": "execute_result",
          "data": {
            "text/plain": [
              "[-1, 2]"
            ]
          },
          "metadata": {
            "tags": []
          },
          "execution_count": 45
        }
      ]
    },
    {
      "cell_type": "markdown",
      "metadata": {
        "id": "aL7GEf0_kCLd"
      },
      "source": [
        "Plot $f$ and $g$ on the same graph for $x\\in[-1,2]$."
      ]
    },
    {
      "cell_type": "code",
      "metadata": {
        "id": "ZW2CpJR9kCLd",
        "colab": {
          "base_uri": "https://localhost:8080/",
          "height": 283
        },
        "outputId": "6e5c9bed-a986-45d3-c5cb-326761ec2ec8"
      },
      "source": [
        "import numpy as np\n",
        "import scipy.integrate as integrate\n",
        "import matplotlib.pyplot as plt\n",
        "\n",
        "f = lambda x: (x-1)**2\n",
        "g = lambda y: -x + 3\n",
        "\n",
        "x = np.linspace(-1,2,200)\n",
        "\n",
        "fx = f(x)\n",
        "gx = g(x)\n",
        "\n",
        "plt.plot(x, fx, label='f(x)=(x-1)**2')\n",
        "plt.plot(x,gx, label='g(x)=-x + 3')\n",
        "plt.fill_between(x, fx, gx)\n",
        "plt.legend()"
      ],
      "execution_count": null,
      "outputs": [
        {
          "output_type": "execute_result",
          "data": {
            "text/plain": [
              "<matplotlib.legend.Legend at 0x7fe80f7af9d0>"
            ]
          },
          "metadata": {
            "tags": []
          },
          "execution_count": 27
        },
        {
          "output_type": "display_data",
          "data": {
            "image/png": "[encoded data removed]",
            "text/plain": [
              "<Figure size 432x288 with 1 Axes>"
            ]
          },
          "metadata": {
            "tags": [],
            "needs_background": "light"
          }
        }
      ]
    },
    {
      "cell_type": "markdown",
      "metadata": {
        "id": "AI50au3LkCLd"
      },
      "source": [
        "Calculate the enclosed area."
      ]
    },
    {
      "cell_type": "code",
      "metadata": {
        "id": "sW-91fjUkCLe",
        "colab": {
          "base_uri": "https://localhost:8080/"
        },
        "outputId": "70ba285e-bfcd-40ab-b924-08894ded4496"
      },
      "source": [
        "from scipy.integrate import quad\n",
        "def integrand(x):\n",
        "  return((-x+3)-(x**2-2*x+1))\n",
        "ans, err=quad(integrand, -1,2) \n",
        "print(ans)"
      ],
      "execution_count": null,
      "outputs": [
        {
          "output_type": "stream",
          "text": [
            "4.5\n"
          ],
          "name": "stdout"
        }
      ]
    },
    {
      "cell_type": "markdown",
      "metadata": {
        "id": "JcCQKt53kCLh"
      },
      "source": [
        "<hr />"
      ]
    },
    {
      "cell_type": "markdown",
      "metadata": {
        "id": "kbHCcalhkCLi"
      },
      "source": [
        "## Define the functions f and g, find the intersections (if exists), plot the graph and find the volume of solids by DIsk (Washer)."
      ]
    },
    {
      "cell_type": "markdown",
      "metadata": {
        "id": "0qzi9TXKkCLl"
      },
      "source": [
        "a) $f(x) = \\sqrt x$, $g(x) = x - 2$, $y = 0$. Revolve about $y=0$."
      ]
    },
    {
      "cell_type": "markdown",
      "metadata": {
        "id": "gXzNY8FbkCLp"
      },
      "source": [
        "Define $f$ and $g$. Then, find the $x$ value of the intersection point(s) of $f$ and $g$ using function \"solve\"."
      ]
    },
    {
      "cell_type": "code",
      "metadata": {
        "id": "oNuq7C8zkCLs",
        "colab": {
          "base_uri": "https://localhost:8080/"
        },
        "outputId": "7895087d-cada-4a3a-a94d-0ceb8dfc1b3e"
      },
      "source": [
        "def f(x):\n",
        "  return x**1/2\n",
        "\n",
        "def g(x):\n",
        "  return x-2\n",
        "\n",
        "from sympy.solvers import solve\n",
        "from sympy import Symbol\n",
        "x = Symbol ('x')\n",
        "solve((x-2)**2 -x,x)\n"
      ],
      "execution_count": null,
      "outputs": [
        {
          "output_type": "execute_result",
          "data": {
            "text/plain": [
              "[1, 4]"
            ]
          },
          "metadata": {
            "tags": []
          },
          "execution_count": 33
        }
      ]
    },
    {
      "cell_type": "markdown",
      "metadata": {
        "id": "iA2Mk2h4kCLt"
      },
      "source": [
        "Plot $f$ and $g$ on the same graph for $x\\in[0,4]$."
      ]
    },
    {
      "cell_type": "code",
      "metadata": {
        "id": "Nm_8dwl_kCLu",
        "colab": {
          "base_uri": "https://localhost:8080/",
          "height": 283
        },
        "outputId": "a3c37f6f-068a-4309-eaa5-e72b39614972"
      },
      "source": [
        "import numpy as np\n",
        "import matplotlib.pyplot as plt\n",
        "import scipy.integrate as integrate\n",
        "\n",
        "f = lambda x: x**(1/2)\n",
        "g = lambda y: x - 2\n",
        "\n",
        "x = np.linspace(0, 4, 100)\n",
        "y = np.linspace(0, 2, 100)\n",
        "\n",
        "fx = f(x)\n",
        "gx = g(x)\n",
        "\n",
        "plt.plot(x, fx, label='f(x)=x**(1/2)')\n",
        "plt.plot(x, gx, label='g(x)=x - 2')\n",
        "plt.axhline(y=0, color='red', label='y=0')\n",
        "px=np.arange(0,500,10)\n",
        "plt.fill_between(x, fx, gx, y)\n",
        "plt.legend()"
      ],
      "execution_count": null,
      "outputs": [
        {
          "output_type": "execute_result",
          "data": {
            "text/plain": [
              "<matplotlib.legend.Legend at 0x7fe8059294d0>"
            ]
          },
          "metadata": {
            "tags": []
          },
          "execution_count": 36
        },
        {
          "output_type": "display_data",
          "data": {
            "image/png": "[encoded data removed]",
            "text/plain": [
              "<Figure size 432x288 with 1 Axes>"
            ]
          },
          "metadata": {
            "tags": [],
            "needs_background": "light"
          }
        }
      ]
    },
    {
      "cell_type": "markdown",
      "metadata": {
        "id": "df6CnpW2kCLx"
      },
      "source": [
        "Calculate the volume."
      ]
    },
    {
      "cell_type": "code",
      "metadata": {
        "id": "Ov-3if2zkCL1",
        "colab": {
          "base_uri": "https://localhost:8080/"
        },
        "outputId": "fb3cdfb7-6649-4698-da82-25f9fb29b391"
      },
      "source": [
        "from scipy.integrate import quad\n",
        "def integrand(x):\n",
        " return np. pi*(x) - np. pi*((x -2)**2)\n",
        "ans, err = quad(integrand,0,4)\n",
        "print(ans) "
      ],
      "execution_count": null,
      "outputs": [
        {
          "output_type": "stream",
          "text": [
            "8.377580409572781\n"
          ],
          "name": "stdout"
        }
      ]
    },
    {
      "cell_type": "markdown",
      "metadata": {
        "id": "O6zmHjxEkCL3"
      },
      "source": [
        "## Define the functions f and g, find the intersections (if exists), plot the graph and find the volume of solids by Cylindrical Shell Method."
      ]
    },
    {
      "cell_type": "markdown",
      "metadata": {
        "id": "59MTmpeXkCL4"
      },
      "source": [
        "a) $f(x) = x^2 + 1$, $g(x)=0$, $x=0$ and $x=2$. Revolve about $x=0$."
      ]
    },
    {
      "cell_type": "markdown",
      "metadata": {
        "id": "6iUSFGFakCL5"
      },
      "source": [
        "Define $f$ and $g$. Then, plot $f$ and $g$ on the same graph for $x\\in[0,2]$."
      ]
    },
    {
      "cell_type": "code",
      "metadata": {
        "id": "0Ev8qlfIkCL7",
        "colab": {
          "base_uri": "https://localhost:8080/",
          "height": 283
        },
        "outputId": "46dfff24-98ac-495a-da87-2db9ae9b4d28"
      },
      "source": [
        "def f(x):\n",
        "  return x**2 + 1\n",
        "\n",
        "def g(x):\n",
        "   return 0\n",
        "\n",
        "import numpy as np\n",
        "import matplotlib.pyplot as plt\n",
        "import scipy.integrate as integrate\n",
        "\n",
        "f = lambda x: x**2 +1\n",
        "\n",
        "x= np.linspace(0, 2, 200)\n",
        "\n",
        "fx = f(x)\n",
        "\n",
        "plt.plot(x, fx, label='f(x)=x**2 + 1')\n",
        "plt.fill_between(x, fx)\n",
        "plt.legend()"
      ],
      "execution_count": null,
      "outputs": [
        {
          "output_type": "execute_result",
          "data": {
            "text/plain": [
              "<matplotlib.legend.Legend at 0x7fe80583ab10>"
            ]
          },
          "metadata": {
            "tags": []
          },
          "execution_count": 40
        },
        {
          "output_type": "display_data",
          "data": {
            "image/png": "[encoded data removed]",
            "text/plain": [
              "<Figure size 432x288 with 1 Axes>"
            ]
          },
          "metadata": {
            "tags": [],
            "needs_background": "light"
          }
        }
      ]
    },
    {
      "cell_type": "markdown",
      "metadata": {
        "id": "b_CVQPG6kCL9"
      },
      "source": [
        "Calculate the volume."
      ]
    },
    {
      "cell_type": "code",
      "metadata": {
        "id": "ZwRuzYqSkCL-",
        "colab": {
          "base_uri": "https://localhost:8080/"
        },
        "outputId": "58f739aa-9499-4907-804c-8a832bd2cf19"
      },
      "source": [
        "from scipy.integrate import quad\n",
        "def integrand(x):\n",
        "  return (2*np.pi) * (x*(x**2+1))\n",
        "ans, err=quad(integrand,0,2)\n",
        "print(ans)  "
      ],
      "execution_count": null,
      "outputs": [
        {
          "output_type": "stream",
          "text": [
            "37.69911184307752\n"
          ],
          "name": "stdout"
        }
      ]
    },
    {
      "cell_type": "markdown",
      "metadata": {
        "id": "mOvDLEFakCL-"
      },
      "source": [
        "**The End**"
      ]
    }
  ]
}